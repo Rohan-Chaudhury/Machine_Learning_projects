{
 "cells": [
  {
   "cell_type": "markdown",
   "metadata": {},
   "source": [
    "# CSCE 633 600 (Machine Learning) Homework 4\n",
    "## Name: Rohan Chaudhury\n",
    "## UIN: 432001358\n"
   ]
  },
  {
   "cell_type": "markdown",
   "metadata": {},
   "source": [
    "### Question: Predicting one's hirability based on their job interview\n",
    "\n",
    "Communication skills are essential for successfully entering the workforce. A particularly important communication skill is the ability to connect the job role requirements with one's professional or personal experience, which is commonly asked during job interviews.\n",
    "\n",
    "The goal of this problem is to predict one's job hirability based on their physiological responses\n",
    "and vocal measures during the interview. We have collected data from 13 participants during a\n",
    "job interview with an industry representative, located inside \"Homework 4\" folder on CANVAS\n",
    "(\"data.csv\"). The rows of the file refer to the samples of the dataset, where each interviewee\n",
    "participant corresponds to one sample. The columns denote the participant ID (column 1),\n",
    "participant's physiological and vocal measures (columns 2-9), and the outcome variable (column\n",
    "10), as described below:\n",
    "\n",
    "1. PID: interviewee ID\n",
    "\n",
    "2. SCL: skin conductance level measured as a proxy of the amount of sweat elicited from the body (measure of physiological reactivity)\n",
    "\n",
    "3. SCRAmp: average amplitude of skin conductance responses (measure of physiological reactivity)\n",
    "\n",
    "4. SCRfreq: average number of skin conductance responses (measure of physiological reactivity)\n",
    "\n",
    "5. HRmean: average heart rate (measure of physiological reactivity)\n",
    "\n",
    "6. ACCmean: average wrist acceleration\n",
    "\n",
    "7. Energy: energy of the speech signal (measure of voice loudness)\n",
    "\n",
    "8. ZCR: speech zero-crossing rate (proxy measure of speech rate)\n",
    "\n",
    "9. VoiceProb: voicing probability of speech (measure of speech quality)\n",
    "\n",
    "10. Hirability: hirability score assigned by the interviewer (1-5 scale; 1: low; 5: high)"
   ]
  },
  {
   "cell_type": "markdown",
   "metadata": {},
   "source": [
    "### (1) (2 points) Feature exploration: Compute the Pearson's correlation between each feature and the hirability score (i.e., 8 correlations in total). Which features appear to be the most predictive of the outcome? Please comment on the sign (i.e., positive/negative) of the correlation values."
   ]
  },
  {
   "cell_type": "code",
   "execution_count": 34,
   "metadata": {},
   "outputs": [],
   "source": [
    "import matplotlib.pyplot as plt\n",
    "import pandas as pd\n",
    "import numpy as np\n",
    "from sklearn import tree"
   ]
  },
  {
   "cell_type": "code",
   "execution_count": 35,
   "metadata": {},
   "outputs": [
    {
     "name": "stdout",
     "output_type": "stream",
     "text": [
      "  PID       SCL    SCRamp   SCRfreq      HRmean    ACCmean    Energy  \\\n",
      "0  P1  0.827077  0.094424  2.898792   73.276206  66.491987  0.005447   \n",
      "1  P2  5.183890  0.244549  5.219806  102.502828  65.031908  0.005782   \n",
      "2  P3  0.023257       NaN  0.000000   90.603827  64.658708  0.006265   \n",
      "3  P4  0.211715  0.008790  2.299042   80.258785  65.260810  0.006127   \n",
      "4  P5  0.082192  0.011505  1.299459   71.348170  66.607203  0.005081   \n",
      "\n",
      "        ZCR  VoiceProb  Hirability  \n",
      "0  0.120261   0.403078           4  \n",
      "1  0.074726   0.457309           5  \n",
      "2  0.098657   0.427495           5  \n",
      "3  0.091186   0.437544           3  \n",
      "4  0.076909   0.374498           4  \n",
      " \n",
      "Total no. of rows in data.csv: 13 \n",
      "\n",
      " \n",
      "Total no. of colums in data.csv: 10 \n",
      "\n"
     ]
    }
   ],
   "source": [
    "file_train=\"data.csv\"\n",
    "\n",
    "train_rows =pd.read_csv(file_train)\n",
    "\n",
    "print (train_rows.head())\n",
    "print (\" \")\n",
    "print(\"Total no. of rows in data.csv: %d \\n\"%(len(train_rows)))\n",
    "print (\" \")\n",
    "print(\"Total no. of colums in data.csv: %d \\n\"%(train_rows.shape[1]))"
   ]
  },
  {
   "cell_type": "code",
   "execution_count": 26,
   "metadata": {},
   "outputs": [
    {
     "name": "stdout",
     "output_type": "stream",
     "text": [
      "Pearson's correlation coefficient between Hirability and SCL is : -0.05021625845476406\n",
      "Pearson's correlation coefficient between Hirability and SCRamp is : 0.25910061151032837\n",
      "Pearson's correlation coefficient between Hirability and SCRfreq is : -0.28007354950846525\n",
      "Pearson's correlation coefficient between Hirability and HRmean is : 0.08944574167632677\n",
      "Pearson's correlation coefficient between Hirability and ACCmean is : 0.02948404711128631\n",
      "Pearson's correlation coefficient between Hirability and Energy is : 0.4768001512064216\n",
      "Pearson's correlation coefficient between Hirability and ZCR is : -0.0492520278990791\n",
      "Pearson's correlation coefficient between Hirability and VoiceProb is : 0.2872210071588297\n"
     ]
    }
   ],
   "source": [
    "for i in range(1,train_rows.shape[1]-1):\n",
    "    correlation=train_rows.iloc[:,[i,-1]].corr(method='pearson')\n",
    "    print (\"Pearson's correlation coefficient between {} and {} is : {}\".format(train_rows.columns[-1], train_rows.columns[i], correlation.iloc[0,1]))"
   ]
  },
  {
   "cell_type": "markdown",
   "metadata": {},
   "source": [
    "### Answer: The Pearson's correlation between each feature and the hirability score is as follows:\n",
    "\n",
    "Pearson's correlation coefficient between Hirability and SCL is : -0.05021625845476406\n",
    "\n",
    "Pearson's correlation coefficient between Hirability and SCRamp is : 0.25910061151032837\n",
    "\n",
    "Pearson's correlation coefficient between Hirability and SCRfreq is : -0.28007354950846525\n",
    "\n",
    "Pearson's correlation coefficient between Hirability and HRmean is : 0.08944574167632677\n",
    "\n",
    "Pearson's correlation coefficient between Hirability and ACCmean is : 0.02948404711128631\n",
    "\n",
    "Pearson's correlation coefficient between Hirability and Energy is : 0.4768001512064216\n",
    "\n",
    "Pearson's correlation coefficient between Hirability and ZCR is : -0.0492520278990791\n",
    "\n",
    "Pearson's correlation coefficient between Hirability and VoiceProb is : 0.2872210071588297\n",
    "\n",
    "\n",
    "The feature **Energy** with Pearson's correlation coefficient value of 0.47 appears to be the most predictive of the outcome value Hirability.\n",
    "\n",
    "\n",
    "Features having positive Pearson's correlation coefficient with Hirability:\n",
    "\n",
    "1. SCRamp\n",
    "\n",
    "2. HRmean\n",
    "\n",
    "3. ACCmean\n",
    "\n",
    "4. Energy\n",
    "\n",
    "5. VoiceProb\n",
    "\n",
    "Features having negative Pearson's correlation coefficient with Hirability:\n",
    "\n",
    "1. SCL\n",
    "\n",
    "2. SCRfreq\n",
    "\n",
    "3. ZCR\n",
    "\n",
    "\n",
    "\n",
    "**A positive Pearson's correlation coefficient between two variables indicates a positive association between them; that is, as the value of one variable increases, so does the value of the other variable.**\n",
    "\n",
    "**A negative Pearson's correlation coefficient between two variables indicates a negative association between them; that is, as the value of one variable increases, the value of the other variable decreases.**"
   ]
  },
  {
   "cell_type": "markdown",
   "metadata": {},
   "source": [
    "### (2) (3 points) Decision tree modeling: Use a decision tree to estimate each interviewee's hirability score based on their physiological and vocal measures. Use a leave-one-sample-out cross-validation (i.e., equivalent to leave-one-participant-out in this case), according to which you will have as many folds as the number of samples (i.e., participants). In each fold, you will use one participant as the test and the rest for training the decision tree. Please collect the estimated hirability score on the test sample from each fold. After all folds are done, please report the average absolute error across all participants (i.e., by taking the estimated hirability value of the test participant from each fold). Experiment with various hyper-parameters (e.g., tree depth) and feature combinations."
   ]
  },
  {
   "cell_type": "code",
   "execution_count": 110,
   "metadata": {},
   "outputs": [
    {
     "name": "stdout",
     "output_type": "stream",
     "text": [
      "Printing hirability scores for 1 case:\n",
      " \n",
      "Predicted Hirability score for sample P1 with original hirability score of [4] is: [3]\n",
      "Predicted Hirability score for sample P2 with original hirability score of [5] is: [5]\n",
      "Predicted Hirability score for sample P3 with original hirability score of [5] is: [3]\n",
      "Predicted Hirability score for sample P4 with original hirability score of [3] is: [5]\n",
      "Predicted Hirability score for sample P5 with original hirability score of [4] is: [4]\n",
      "Predicted Hirability score for sample P6 with original hirability score of [4] is: [4]\n",
      "Predicted Hirability score for sample P7 with original hirability score of [5] is: [4]\n",
      "Predicted Hirability score for sample P8 with original hirability score of [4] is: [4]\n",
      "Predicted Hirability score for sample P9 with original hirability score of [4] is: [5]\n",
      "Predicted Hirability score for sample P10 with original hirability score of [5] is: [4]\n",
      "Predicted Hirability score for sample P11 with original hirability score of [5] is: [4]\n",
      "Predicted Hirability score for sample P12 with original hirability score of [3] is: [5]\n",
      "Predicted Hirability score for sample P13 with original hirability score of [5] is: [3]\n",
      "Average absolute error across all participants with no limit on tree depth and features ['SCL', 'SCRamp', 'SCRfreq', 'HRmean', 'ACCmean', 'Energy', 'ZCR', 'VoiceProb'] is: [1.]\n",
      " \n"
     ]
    },
    {
     "data": {
      "text/plain": [
       "array([1.])"
      ]
     },
     "execution_count": 110,
     "metadata": {},
     "output_type": "execute_result"
    }
   ],
   "source": [
    "# feature_set_1=[\"SCL\",\"SCRamp\",\"SCRfreq\",\"HRmean\",\"ACCmean\",\"Energy\",\"ZCR\",\"VoiceProb\"]\n",
    "# X_matrix_1=train_rows.loc[:,feature_set_1]\n",
    "# X_matrix_1=X_matrix_1.to_numpy()\n",
    "# Y_matrix_1=train_rows.loc[:,\"Hirability\"]\n",
    "# Y_matrix_1=Y_matrix_1.to_numpy()\n",
    "\n",
    "\n",
    "def decision_tree(X_train,Y_train, tree_depth=None, plot_tree=False):\n",
    "    if tree_depth:\n",
    "        clf = tree.DecisionTreeClassifier(max_depth=tree_depth)\n",
    "    else:    \n",
    "        clf = tree.DecisionTreeClassifier()\n",
    "    clf = clf.fit(X_train,Y_train)\n",
    "    if plot_tree:\n",
    "        tree.plot_tree(clf)\n",
    "    return clf\n",
    "\n",
    "\n",
    "\n",
    "def get_score_dt(train_rows, feature_set=[\"SCL\",\"SCRamp\",\"SCRfreq\",\"HRmean\",\"ACCmean\",\"Energy\",\"ZCR\",\"VoiceProb\"], tree_depth=None, print_hirability=False, print_avg_score=True):\n",
    "    X_matrix=train_rows.loc[:,feature_set]\n",
    "    X_matrix=X_matrix.to_numpy()\n",
    "    Y_matrix=train_rows.loc[:,\"Hirability\"]\n",
    "    Y_matrix=Y_matrix.to_numpy()\n",
    "    X_matrix = np.nan_to_num(X_matrix)\n",
    "    scores=[]\n",
    "    abs_err=[]\n",
    "#     print (X_matrix)\n",
    "    for i in range(0, len(Y_matrix)):\n",
    "        if (i!=0):\n",
    "            X_train=np.concatenate((X_matrix[:i],X_matrix[i+1:]))\n",
    "            Y_train=np.concatenate((Y_matrix[:i],Y_matrix[i+1:]))\n",
    "            X_test=X_matrix[i:i+1]\n",
    "            Y_test=Y_matrix[i:i+1]\n",
    "        else:\n",
    "            X_train=X_matrix[1:]\n",
    "            Y_train=Y_matrix[1:]\n",
    "            X_test=X_matrix[:1]\n",
    "            Y_test=Y_matrix[:1]\n",
    "        \n",
    "        \n",
    "        \n",
    "#         print (X_train)\n",
    "\n",
    "        clf=decision_tree(X_train,Y_train,tree_depth)\n",
    "#         trees.append(clf)\n",
    "        pred=clf.predict(X_test)\n",
    "        if print_hirability:\n",
    "            print (\"Predicted Hirability score for sample P{} with original hirability score of {} is: {}\".format(i+1, Y_test, pred))\n",
    "        scores.append(pred)\n",
    "        abs_err.append(abs(pred-Y_test))\n",
    "    \n",
    "    avg_abs_err=sum(abs_err)/len(abs_err)\n",
    "    if print_avg_score:\n",
    "        if tree_depth:\n",
    "            print (\"Average absolute error across all participants with tree depth of {} and features {} is: {}\".format(tree_depth,feature_set,avg_abs_err))\n",
    "\n",
    "        else:\n",
    "            print (\"Average absolute error across all participants with no limit on tree depth and features {} is: {}\".format(feature_set,avg_abs_err))\n",
    "        print (\" \")\n",
    "    return avg_abs_err\n",
    "        \n",
    "# trees=[]\n",
    "print (\"Printing hirability scores for 1 case:\")\n",
    "print (\" \")\n",
    "get_score_dt(train_rows, print_hirability=True)\n"
   ]
  },
  {
   "cell_type": "markdown",
   "metadata": {},
   "source": [
    "### Answer: The estimated hirability score on the test sample from 1 hyperparameter combination is printed above."
   ]
  },
  {
   "cell_type": "code",
   "execution_count": 111,
   "metadata": {},
   "outputs": [
    {
     "name": "stdout",
     "output_type": "stream",
     "text": [
      "Printing only Average Absolute error for the rest of the hyperparameter combinations:\n",
      " \n",
      "Average absolute error across all participants with no limit on tree depth and features ['SCRamp', 'SCRfreq', 'Energy', 'VoiceProb'] is: [0.92307692]\n",
      " \n",
      "Average absolute error across all participants with no limit on tree depth and features ['Energy'] is: [1.]\n",
      " \n",
      "Average absolute error across all participants with tree depth of 2 and features ['Energy', 'VoiceProb'] is: [0.92307692]\n",
      " \n",
      "Average absolute error across all participants with tree depth of 2 and features ['SCRamp', 'SCRfreq', 'Energy', 'VoiceProb'] is: [0.92307692]\n",
      " \n",
      "Average absolute error across all participants with tree depth of 3 and features ['SCL', 'SCRamp', 'SCRfreq', 'HRmean', 'ACCmean', 'Energy', 'ZCR', 'VoiceProb'] is: [0.61538462]\n",
      " \n",
      "Average absolute error across all participants with tree depth of 4 and features ['SCRamp', 'SCRfreq', 'Energy', 'VoiceProb'] is: [0.84615385]\n",
      " \n",
      "Average absolute error across all participants with tree depth of 5 and features ['Energy'] is: [0.92307692]\n",
      " \n"
     ]
    }
   ],
   "source": [
    "print (\"Printing only Average Absolute error for the rest of the hyperparameter combinations:\")\n",
    "print (\" \")\n",
    "\n",
    "hyperparams=[(None,[\"SCRamp\",\"SCRfreq\",\"Energy\",\"VoiceProb\"]),(None,[\"Energy\"]),(2,[\"Energy\",\"VoiceProb\"]),(2,[\"SCRamp\",\"SCRfreq\",\"Energy\",\"VoiceProb\"]),(3,[\"SCL\",\"SCRamp\",\"SCRfreq\",\"HRmean\",\"ACCmean\",\"Energy\",\"ZCR\",\"VoiceProb\"]),(4,[\"SCRamp\",\"SCRfreq\",\"Energy\",\"VoiceProb\"]),(5,[\"Energy\"])]\n",
    "\n",
    "\n",
    "avg_scores=[]\n",
    "# trees=[]\n",
    "for hyp in hyperparams:\n",
    "#     print (hyp[1],hyp[0])\n",
    "    avg_score=get_score_dt(train_rows, feature_set=hyp[1], tree_depth=hyp[0])\n",
    "    avg_scores.append(avg_score)"
   ]
  },
  {
   "cell_type": "markdown",
   "metadata": {},
   "source": [
    "### Answer: After all folds are done, the average absolute error across all participants is calculated and printed above for various hyper-parameters and feature combinations."
   ]
  },
  {
   "cell_type": "markdown",
   "metadata": {},
   "source": [
    "## (3) (2 points) Decision tree visualization: Provide a plot of the root, nodes, and decisionboundaries of the best decision tree. Provide your intuition regarding the resulting model."
   ]
  },
  {
   "cell_type": "code",
   "execution_count": 120,
   "metadata": {},
   "outputs": [
    {
     "name": "stdout",
     "output_type": "stream",
     "text": [
      "The best decision tree with minimum average absolute error of [0.61538462] has tree depth of 3 and following features in the training set: ['SCL', 'SCRamp', 'SCRfreq', 'HRmean', 'ACCmean', 'Energy', 'ZCR', 'VoiceProb']\n",
      " \n",
      "Decision tree visualization:\n",
      " \n"
     ]
    },
    {
     "data": {
      "text/plain": [
       "DecisionTreeClassifier(max_depth=3)"
      ]
     },
     "execution_count": 120,
     "metadata": {},
     "output_type": "execute_result"
    },
    {
     "data": {
      "image/png": "[encoded data removed]",
      "text/plain": [
       "<Figure size 432x288 with 1 Axes>"
      ]
     },
     "metadata": {
      "needs_background": "light"
     },
     "output_type": "display_data"
    }
   ],
   "source": [
    "min_avg_error_idx=avg_scores.index(min(avg_scores))\n",
    "\n",
    "\n",
    "print (\"The best decision tree with minimum average absolute error of {} has tree depth of {} and following features in the training set: {}\".format(min(avg_scores),hyperparams[min_avg_error_idx][0],hyperparams[min_avg_error_idx][1]))\n",
    "print (\" \")\n",
    "print (\"Decision tree visualization:\")\n",
    "print (\" \")\n",
    "\n",
    "X_matrix_opt=train_rows.loc[:,hyperparams[min_avg_error_idx][1]]\n",
    "X_matrix_opt=X_matrix_opt.to_numpy()\n",
    "Y_matrix_opt=train_rows.loc[:,\"Hirability\"]\n",
    "Y_matrix_opt=Y_matrix_opt.to_numpy()\n",
    "X_matrix_opt = np.nan_to_num(X_matrix_opt)\n",
    "\n",
    "\n",
    "decision_tree(X_matrix_opt,Y_matrix_opt, tree_depth=hyperparams[min_avg_error_idx][0], plot_tree=True)\n",
    "# tree.plot_tree(clf)"
   ]
  },
  {
   "cell_type": "code",
   "execution_count": null,
   "metadata": {},
   "outputs": [],
   "source": []
  }
 ],
 "metadata": {
  "kernelspec": {
   "display_name": "Python 3",
   "language": "python",
   "name": "python3"
  },
  "language_info": {
   "codemirror_mode": {
    "name": "ipython",
    "version": 3
   },
   "file_extension": ".py",
   "mimetype": "text/x-python",
   "name": "python",
   "nbconvert_exporter": "python",
   "pygments_lexer": "ipython3",
   "version": "3.6.10"
  }
 },
 "nbformat": 4,
 "nbformat_minor": 4
}
